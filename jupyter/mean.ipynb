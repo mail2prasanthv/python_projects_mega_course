{
 "cells": [
  {
   "cell_type": "code",
   "execution_count": 5,
   "id": "b84141d3-419c-422a-87cd-8b516fe0ace2",
   "metadata": {},
   "outputs": [],
   "source": [
    "##Statistics "
   ]
  },
  {
   "cell_type": "code",
   "execution_count": 29,
   "id": "443b4f9c-58e4-4f5e-bf01-51c74df6b722",
   "metadata": {
    "tags": []
   },
   "outputs": [],
   "source": [
    "import pandas as pd"
   ]
  },
  {
   "cell_type": "code",
   "execution_count": 30,
   "id": "a37f92e0-8227-4662-b105-b0965a2dd830",
   "metadata": {
    "tags": []
   },
   "outputs": [],
   "source": [
    "df = pd.read_csv(\"TG_STAID000001.txt\",skiprows=20,parse_dates=[\"    DATE\"])"
   ]
  },
  {
   "cell_type": "code",
   "execution_count": 31,
   "id": "3a4051f6-5429-43c3-b16b-a4560ba7c33c",
   "metadata": {},
   "outputs": [
    {
     "data": {
      "text/plain": [
       "63.607875261284676"
      ]
     },
     "execution_count": 31,
     "metadata": {},
     "output_type": "execute_result"
    }
   ],
   "source": [
    "df.loc[df[\"   TG\"]!=-9999][\"   TG\"].mean()"
   ]
  },
  {
   "cell_type": "code",
   "execution_count": 28,
   "id": "0fe49cfe-f7d3-49aa-bb02-19a30c8975af",
   "metadata": {},
   "outputs": [
    {
     "data": {
      "text/plain": [
       "-1014.323233681945"
      ]
     },
     "execution_count": 28,
     "metadata": {},
     "output_type": "execute_result"
    }
   ],
   "source": [
    "df[\"   TG\"].mean()"
   ]
  },
  {
   "cell_type": "code",
   "execution_count": null,
   "id": "4a324575-907f-4c8f-a770-8fdfffaeefac",
   "metadata": {},
   "outputs": [],
   "source": []
  },
  {
   "cell_type": "code",
   "execution_count": null,
   "id": "dd92acba-0d4b-40c6-83e6-fb6239b19bd5",
   "metadata": {},
   "outputs": [],
   "source": []
  },
  {
   "cell_type": "code",
   "execution_count": null,
   "id": "c54a0cfd-470f-4692-94d0-d06f485c259c",
   "metadata": {},
   "outputs": [],
   "source": []
  },
  {
   "cell_type": "code",
   "execution_count": null,
   "id": "e25b35ed-63b5-42c2-b09c-c4ff2e866375",
   "metadata": {},
   "outputs": [],
   "source": []
  }
 ],
 "metadata": {
  "kernelspec": {
   "display_name": "Python 3 (ipykernel)",
   "language": "python",
   "name": "python3"
  },
  "language_info": {
   "codemirror_mode": {
    "name": "ipython",
    "version": 3
   },
   "file_extension": ".py",
   "mimetype": "text/x-python",
   "name": "python",
   "nbconvert_exporter": "python",
   "pygments_lexer": "ipython3",
   "version": "3.10.6"
  }
 },
 "nbformat": 4,
 "nbformat_minor": 5
}
